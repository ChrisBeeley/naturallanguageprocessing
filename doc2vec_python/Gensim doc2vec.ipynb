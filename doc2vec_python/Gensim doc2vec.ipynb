{
 "cells": [
  {
   "cell_type": "code",
   "execution_count": 1,
   "metadata": {},
   "outputs": [],
   "source": [
    "#Import all the dependencies\n",
    "from gensim.models.doc2vec import Doc2Vec, TaggedDocument\n",
    "from nltk.tokenize import word_tokenize\n"
   ]
  },
  {
   "cell_type": "code",
   "execution_count": 2,
   "metadata": {},
   "outputs": [
    {
     "data": {
      "text/html": [
       "<div>\n",
       "<style scoped>\n",
       "    .dataframe tbody tr th:only-of-type {\n",
       "        vertical-align: middle;\n",
       "    }\n",
       "\n",
       "    .dataframe tbody tr th {\n",
       "        vertical-align: top;\n",
       "    }\n",
       "\n",
       "    .dataframe thead th {\n",
       "        text-align: right;\n",
       "    }\n",
       "</style>\n",
       "<table border=\"1\" class=\"dataframe\">\n",
       "  <thead>\n",
       "    <tr style=\"text-align: right;\">\n",
       "      <th></th>\n",
       "      <th>Date</th>\n",
       "      <th>Time</th>\n",
       "      <th>formtype</th>\n",
       "      <th>Improve</th>\n",
       "      <th>Imp1</th>\n",
       "      <th>Imp2</th>\n",
       "      <th>ImpCrit</th>\n",
       "      <th>CommentCoderImp</th>\n",
       "      <th>TweetImp</th>\n",
       "      <th>Best</th>\n",
       "      <th>Best1</th>\n",
       "      <th>Best2</th>\n",
       "      <th>BestCrit</th>\n",
       "      <th>Division2</th>\n",
       "      <th>Directorate2</th>\n",
       "      <th>Location</th>\n",
       "    </tr>\n",
       "  </thead>\n",
       "  <tbody>\n",
       "    <tr>\n",
       "      <th>0</th>\n",
       "      <td>2011-10-01</td>\n",
       "      <td>11</td>\n",
       "      <td>adult</td>\n",
       "      <td>get treatment i requested</td>\n",
       "      <td>50.0</td>\n",
       "      <td>NaN</td>\n",
       "      <td>1.0</td>\n",
       "      <td>NaN</td>\n",
       "      <td>NaN</td>\n",
       "      <td>It helped.</td>\n",
       "      <td>40.0</td>\n",
       "      <td>NaN</td>\n",
       "      <td>1.0</td>\n",
       "      <td>Forensic services</td>\n",
       "      <td>Offender health</td>\n",
       "      <td>Offender health</td>\n",
       "    </tr>\n",
       "    <tr>\n",
       "      <th>1</th>\n",
       "      <td>2011-10-01</td>\n",
       "      <td>11</td>\n",
       "      <td>adult</td>\n",
       "      <td>provide gym staff to get gym up and running</td>\n",
       "      <td>47.0</td>\n",
       "      <td>NaN</td>\n",
       "      <td>1.0</td>\n",
       "      <td>NaN</td>\n",
       "      <td>NaN</td>\n",
       "      <td>Early stages waiting to see course contents an...</td>\n",
       "      <td>46.0</td>\n",
       "      <td>NaN</td>\n",
       "      <td>1.0</td>\n",
       "      <td>Forensic services</td>\n",
       "      <td>Offender health</td>\n",
       "      <td>Offender health</td>\n",
       "    </tr>\n",
       "    <tr>\n",
       "      <th>2</th>\n",
       "      <td>2011-10-01</td>\n",
       "      <td>11</td>\n",
       "      <td>adult</td>\n",
       "      <td>to look at the problems properly and give you ...</td>\n",
       "      <td>44.0</td>\n",
       "      <td>NaN</td>\n",
       "      <td>2.0</td>\n",
       "      <td>NaN</td>\n",
       "      <td>NaN</td>\n",
       "      <td>The best thing about it is getting treatment e...</td>\n",
       "      <td>61.0</td>\n",
       "      <td>NaN</td>\n",
       "      <td>1.0</td>\n",
       "      <td>Forensic services</td>\n",
       "      <td>Offender health</td>\n",
       "      <td>Offender health</td>\n",
       "    </tr>\n",
       "    <tr>\n",
       "      <th>3</th>\n",
       "      <td>2011-10-01</td>\n",
       "      <td>11</td>\n",
       "      <td>adult</td>\n",
       "      <td>to be more involved</td>\n",
       "      <td>27.0</td>\n",
       "      <td>NaN</td>\n",
       "      <td>2.0</td>\n",
       "      <td>NaN</td>\n",
       "      <td>NaN</td>\n",
       "      <td>Keep in on meds.</td>\n",
       "      <td>44.0</td>\n",
       "      <td>NaN</td>\n",
       "      <td>1.0</td>\n",
       "      <td>Forensic services</td>\n",
       "      <td>Offender health</td>\n",
       "      <td>Offender health</td>\n",
       "    </tr>\n",
       "    <tr>\n",
       "      <th>4</th>\n",
       "      <td>2011-10-01</td>\n",
       "      <td>11</td>\n",
       "      <td>adult</td>\n",
       "      <td>my drug problem was with subutex i was given m...</td>\n",
       "      <td>44.0</td>\n",
       "      <td>NaN</td>\n",
       "      <td>2.0</td>\n",
       "      <td>NaN</td>\n",
       "      <td>NaN</td>\n",
       "      <td>When I asked to see the doctor regarding my me...</td>\n",
       "      <td>61.0</td>\n",
       "      <td>NaN</td>\n",
       "      <td>1.0</td>\n",
       "      <td>Forensic services</td>\n",
       "      <td>Offender health</td>\n",
       "      <td>Offender health</td>\n",
       "    </tr>\n",
       "  </tbody>\n",
       "</table>\n",
       "</div>"
      ],
      "text/plain": [
       "         Date  Time formtype  \\\n",
       "0  2011-10-01    11    adult   \n",
       "1  2011-10-01    11    adult   \n",
       "2  2011-10-01    11    adult   \n",
       "3  2011-10-01    11    adult   \n",
       "4  2011-10-01    11    adult   \n",
       "\n",
       "                                             Improve  Imp1  Imp2  ImpCrit  \\\n",
       "0                          get treatment i requested  50.0   NaN      1.0   \n",
       "1        provide gym staff to get gym up and running  47.0   NaN      1.0   \n",
       "2  to look at the problems properly and give you ...  44.0   NaN      2.0   \n",
       "3                                to be more involved  27.0   NaN      2.0   \n",
       "4  my drug problem was with subutex i was given m...  44.0   NaN      2.0   \n",
       "\n",
       "  CommentCoderImp  TweetImp  \\\n",
       "0             NaN       NaN   \n",
       "1             NaN       NaN   \n",
       "2             NaN       NaN   \n",
       "3             NaN       NaN   \n",
       "4             NaN       NaN   \n",
       "\n",
       "                                                Best  Best1  Best2  BestCrit  \\\n",
       "0                                         It helped.   40.0    NaN       1.0   \n",
       "1  Early stages waiting to see course contents an...   46.0    NaN       1.0   \n",
       "2  The best thing about it is getting treatment e...   61.0    NaN       1.0   \n",
       "3                                   Keep in on meds.   44.0    NaN       1.0   \n",
       "4  When I asked to see the doctor regarding my me...   61.0    NaN       1.0   \n",
       "\n",
       "           Division2     Directorate2         Location  \n",
       "0  Forensic services  Offender health  Offender health  \n",
       "1  Forensic services  Offender health  Offender health  \n",
       "2  Forensic services  Offender health  Offender health  \n",
       "3  Forensic services  Offender health  Offender health  \n",
       "4  Forensic services  Offender health  Offender health  "
      ]
     },
     "execution_count": 2,
     "metadata": {},
     "output_type": "execute_result"
    }
   ],
   "source": [
    "import gensim\n",
    "from gensim import corpora\n",
    "from pprint import pprint\n",
    "from gensim.utils import simple_preprocess\n",
    "\n",
    "import pandas as pd\n",
    "\n",
    "df = pd.read_csv(\"for_gensim.csv\")\n",
    "\n",
    "df.head()"
   ]
  },
  {
   "cell_type": "code",
   "execution_count": 3,
   "metadata": {},
   "outputs": [
    {
     "name": "stdout",
     "output_type": "stream",
     "text": [
      "['provide', 'gym', 'staff', 'to', 'get', 'gym', 'up', 'and', 'running']\n",
      "['cant', 'give', 'any', 'feedback', 'on', 'what', 'could', 'be', 'done', 'better']\n"
     ]
    }
   ],
   "source": [
    "# make a training and test set\n",
    "\n",
    "# filter by date\n",
    "\n",
    "df['Date'] = pd.to_datetime(df['Date'])\n",
    "\n",
    "mask_training = (df['Date'] < \"2018-01-01\")\n",
    "mask_test = (df['Date'] >= \"2018-01-01\")\n",
    "\n",
    "df_training = df.loc[mask_training]\n",
    "len(df_training)\n",
    "\n",
    "df_test = df.loc[mask_test]\n",
    "len(df_test)\n",
    "\n",
    "comments_training = df_training[\"Improve\"]\n",
    "comments_test = df_test[\"Improve\"]\n",
    "\n",
    "\n",
    "description_training = comments_training.apply(lambda x: x.split()).tolist()\n",
    "description_test = comments_test.apply(lambda x: x.split()).tolist()\n",
    "print(description_training[1])\n",
    "print(description_test[1])\n"
   ]
  },
  {
   "cell_type": "code",
   "execution_count": 4,
   "metadata": {},
   "outputs": [],
   "source": [
    "documents = [TaggedDocument(doc, [i]) for i, doc in enumerate(description_training)]\n",
    "model = Doc2Vec(documents, vector_size=5, window=2, min_count=1, workers=4)"
   ]
  },
  {
   "cell_type": "code",
   "execution_count": 5,
   "metadata": {},
   "outputs": [],
   "source": [
    "from gensim.test.utils import get_tmpfile\n",
    "\n",
    "fname = get_tmpfile(\"my_doc2vec_model\")\n",
    "\n",
    "model.save(fname)\n",
    "model = Doc2Vec.load(fname)  # you can continue training with the loaded model!"
   ]
  },
  {
   "cell_type": "code",
   "execution_count": 26,
   "metadata": {},
   "outputs": [
    {
     "name": "stdout",
     "output_type": "stream",
     "text": [
      "[(28961, 0.9924703240394592), (32561, 0.9910312294960022), (25700, 0.9893164038658142), (452, 0.9878360033035278), (39475, 0.9847462177276611), (26792, 0.9827353954315186), (3170, 0.9814635515213013), (4840, 0.9811143279075623), (2281, 0.9796568155288696), (8940, 0.977570116519928)]\n"
     ]
    }
   ],
   "source": [
    "# tokens = \"a new sentence to match\".split()\n",
    "\n",
    "tokens = description_test[3]\n",
    "\n",
    "new_vector = model.infer_vector(tokens)\n",
    "sims = model.docvecs.most_similar([new_vector]) #gives you top 10 document tags and their cosine similarity\n",
    "print(sims)"
   ]
  },
  {
   "cell_type": "code",
   "execution_count": 27,
   "metadata": {},
   "outputs": [
    {
     "name": "stdout",
     "output_type": "stream",
     "text": [
      "['dining', 'room', 'floor', 'could', 'do', 'with', 'sweeping', 'more']\n",
      "Similar comments:\n",
      "['to know when groups come to an end so we can sign up for the next one', 'help with legs', 'more information available about babytoddler groups in the area and better website access to find info for new mums', 'all ok', 'everything was good', 'couldnt be better', 'more independence with medication stage 2', 'to control my anger more', 'to make me better', 'no all very good']\n"
     ]
    }
   ],
   "source": [
    "res_list = [x[0] for x in sims]\n",
    "\n",
    "print(description_test[3])\n",
    "\n",
    "print(\"Similar comments:\")\n",
    "\n",
    "T = [comments_training[i] for i in res_list]\n",
    "\n",
    "print(T)\n",
    "\n",
    "#print(description_training[res_list])"
   ]
  },
  {
   "cell_type": "code",
   "execution_count": null,
   "metadata": {},
   "outputs": [],
   "source": []
  }
 ],
 "metadata": {
  "kernelspec": {
   "display_name": "Python 3",
   "language": "python",
   "name": "python3"
  },
  "language_info": {
   "codemirror_mode": {
    "name": "ipython",
    "version": 3
   },
   "file_extension": ".py",
   "mimetype": "text/x-python",
   "name": "python",
   "nbconvert_exporter": "python",
   "pygments_lexer": "ipython3",
   "version": "3.7.2"
  }
 },
 "nbformat": 4,
 "nbformat_minor": 2
}
